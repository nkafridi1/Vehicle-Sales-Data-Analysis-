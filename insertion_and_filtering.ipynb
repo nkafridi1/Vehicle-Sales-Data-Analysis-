{
 "cells": [
  {
   "cell_type": "code",
   "execution_count": 2,
   "metadata": {},
   "outputs": [],
   "source": [
    "import psycopg2\n",
    "import pandas as pd\n",
    "from dateutil import parser"
   ]
  },
  {
   "cell_type": "code",
   "execution_count": 3,
   "metadata": {},
   "outputs": [],
   "source": [
    "# Database connection details\n",
    "db_config = {\n",
    "    'dbname': 'cis_566_database',\n",
    "    'user': 'postgres',\n",
    "    'password': '',\n",
    "    'host': 'localhost',\n",
    "    'port': '5432'\n",
    "}"
   ]
  },
  {
   "cell_type": "code",
   "execution_count": null,
   "metadata": {},
   "outputs": [],
   "source": [
    "file_path = 'Datasets/car_prices.csv'  # Replace with the actual path to your cleaned CSV file\n",
    "data = pd.read_csv(file_path)"
   ]
  },
  {
   "cell_type": "code",
   "execution_count": null,
   "metadata": {},
   "outputs": [],
   "source": [
    "def convertDate(date_str):\n",
    "    # Check if date_str is NaN or empty\n",
    "    if pd.isna(date_str) or not isinstance(date_str, str) or date_str.strip() == \"\":\n",
    "        return None\n",
    "    \n",
    "    try:\n",
    "        parsed_date = parser.parse(date_str)\n",
    "        db_date = parsed_date.isoformat()\n",
    "        print(db_date)\n",
    "        return db_date\n",
    "    except (ValueError, TypeError):\n",
    "        return None"
   ]
  },
  {
   "cell_type": "code",
   "execution_count": null,
   "metadata": {},
   "outputs": [],
   "source": [
    "conn = psycopg2.connect(**db_config)\n",
    "cursor = conn.cursor()"
   ]
  },
  {
   "cell_type": "code",
   "execution_count": null,
   "metadata": {},
   "outputs": [],
   "source": [
    "def insertDataToDB():\n",
    "    try:\n",
    "        print(conn, cursor)\n",
    "        for _, row in data.iterrows():\n",
    "            print(_, row)\n",
    "            cursor.execute(\n",
    "                \"\"\"\n",
    "                INSERT INTO Vehicles (vin, year, make, model, trim, body, transmission, color, interior)\n",
    "                VALUES (%s, %s, %s, %s, %s, %s, %s, %s, %s)\n",
    "                ON CONFLICT (vin) DO NOTHING;\n",
    "                \"\"\",\n",
    "                (row['vin'], row['year'], row['make'], row['model'], row['trim'], row['body'], row['transmission'], row['color'], row['interior'])\n",
    "            )\n",
    "        conn.commit()\n",
    "          \n",
    "\n",
    "        for _, row in data.iterrows():\n",
    "            print(_, row)\n",
    "            saleDate = convertDate(row['saledate'])\n",
    "            cursor.execute(\n",
    "                \"\"\"\n",
    "                INSERT INTO Sales (vin, state, saledate, sellingprice)\n",
    "                VALUES (%s, %s, %s, %s)\n",
    "                ON CONFLICT DO NOTHING;\n",
    "                \"\"\",\n",
    "                (row['vin'], row['state'], saleDate, row['sellingprice'])\n",
    "            )\n",
    "            conn.commit()\n",
    "\n",
    "        for _, row in data.iterrows():\n",
    "            print(_, row)\n",
    "            cursor.execute(\n",
    "                \"\"\"\n",
    "                INSERT INTO MarketTrends (vin, mmr)\n",
    "                VALUES (%s, %s)\n",
    "                ON CONFLICT DO NOTHING;\n",
    "                \"\"\",\n",
    "                (row['vin'], row['mmr'])\n",
    "            )\n",
    "        conn.commit()\n",
    "\n",
    "        for _, row in data.iterrows():\n",
    "            print(_, row)\n",
    "            cursor.execute(\n",
    "                \"\"\"\n",
    "                INSERT INTO Condition (vin, condition_rating, odometer)\n",
    "                VALUES (%s, %s, %s)\n",
    "                ON CONFLICT DO NOTHING;\n",
    "                \"\"\",\n",
    "                (row['vin'], row['condition'], row['odometer'])\n",
    "            )\n",
    "        conn.commit()\n",
    "\n",
    "    except Exception as e:\n",
    "        print(f\"Error: {e}\")"
   ]
  },
  {
   "cell_type": "code",
   "execution_count": null,
   "metadata": {},
   "outputs": [],
   "source": [
    "# Insert data to db from csv file\n",
    "insertDataToDB()"
   ]
  },
  {
   "cell_type": "code",
   "execution_count": null,
   "metadata": {},
   "outputs": [],
   "source": [
    "# Delete all the relations of the vehicles for the discrepencies \n",
    "query_0 = \"\"\"\n",
    "  delete from sales where vin in (select vin from vehicles where make = 'NaN' or model = 'NaN');\n",
    "  delete from markettrends where vin in (select vin from vehicles where make = 'NaN' or model = 'NaN');\n",
    "  delete from \"condition\" where vin in (select vin from vehicles where make = 'NaN' or model = 'NaN');\n",
    "  delete from vehicles where make = 'NaN' or model = 'NaN';\n",
    "\"\"\"\n",
    "conn.execute(query_0)\n",
    "conn.commit()"
   ]
  },
  {
   "cell_type": "code",
   "execution_count": null,
   "metadata": {},
   "outputs": [],
   "source": [
    "# Clear null and faulty data from sales table using salesdate\n",
    "query_1 = \"DELETE FROM sales WHERE CAST(saledate AS TEXT) NOT ILIKE '2%' and CAST(saledate AS TEXT) NOT ILIKE '1%';\"\n",
    "conn.execute(query_1)\n",
    "conn.commit()"
   ]
  },
  {
   "cell_type": "code",
   "execution_count": null,
   "metadata": {},
   "outputs": [],
   "source": [
    "# Filtered markettrends data to remove unknown mmrs\n",
    "query_2 = \"delete from markettrends where mmr = 'NaN'\"\n",
    "conn.execute(query_2)\n",
    "conn.commit()"
   ]
  },
  {
   "cell_type": "code",
   "execution_count": null,
   "metadata": {},
   "outputs": [],
   "source": [
    "# Set the odometer ratings to NULL for the faulty data\n",
    "query_3 = \"UPDATE condition SET odometer = NULL where odometer = 'NaN'\"\n",
    "conn.execute(query_3)\n",
    "conn.commit()"
   ]
  },
  {
   "cell_type": "code",
   "execution_count": null,
   "metadata": {},
   "outputs": [],
   "source": [
    "# Clear null and faulty data from sales table\n",
    "query_4 = \"delete from sales where sellingprice = 'NaN' or is null\"\n",
    "conn.execute(query_4)\n",
    "conn.commit()"
   ]
  }
 ],
 "metadata": {
  "kernelspec": {
   "display_name": "base",
   "language": "python",
   "name": "python3"
  },
  "language_info": {
   "codemirror_mode": {
    "name": "ipython",
    "version": 3
   },
   "file_extension": ".py",
   "mimetype": "text/x-python",
   "name": "python",
   "nbconvert_exporter": "python",
   "pygments_lexer": "ipython3",
   "version": "3.12.7"
  }
 },
 "nbformat": 4,
 "nbformat_minor": 2
}
